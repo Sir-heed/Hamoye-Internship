{
 "cells": [
  {
   "cell_type": "code",
   "execution_count": 1,
   "id": "6dc13a51",
   "metadata": {},
   "outputs": [],
   "source": [
    "import pandas as pd"
   ]
  },
  {
   "cell_type": "code",
   "execution_count": 6,
   "id": "3cdabbd1",
   "metadata": {},
   "outputs": [],
   "source": [
    "df = pd.read_csv('FoodBalanceSheets_E_Africa_NOFLAG.csv', encoding='latin-1')"
   ]
  },
  {
   "cell_type": "code",
   "execution_count": 7,
   "id": "20045874",
   "metadata": {},
   "outputs": [
    {
     "data": {
      "text/html": [
       "<div>\n",
       "<style scoped>\n",
       "    .dataframe tbody tr th:only-of-type {\n",
       "        vertical-align: middle;\n",
       "    }\n",
       "\n",
       "    .dataframe tbody tr th {\n",
       "        vertical-align: top;\n",
       "    }\n",
       "\n",
       "    .dataframe thead th {\n",
       "        text-align: right;\n",
       "    }\n",
       "</style>\n",
       "<table border=\"1\" class=\"dataframe\">\n",
       "  <thead>\n",
       "    <tr style=\"text-align: right;\">\n",
       "      <th></th>\n",
       "      <th>Area Code</th>\n",
       "      <th>Area</th>\n",
       "      <th>Item Code</th>\n",
       "      <th>Item</th>\n",
       "      <th>Element Code</th>\n",
       "      <th>Element</th>\n",
       "      <th>Unit</th>\n",
       "      <th>Y2014</th>\n",
       "      <th>Y2015</th>\n",
       "      <th>Y2016</th>\n",
       "      <th>Y2017</th>\n",
       "      <th>Y2018</th>\n",
       "    </tr>\n",
       "  </thead>\n",
       "  <tbody>\n",
       "    <tr>\n",
       "      <th>0</th>\n",
       "      <td>4</td>\n",
       "      <td>Algeria</td>\n",
       "      <td>2501</td>\n",
       "      <td>Population</td>\n",
       "      <td>511</td>\n",
       "      <td>Total Population - Both sexes</td>\n",
       "      <td>1000 persons</td>\n",
       "      <td>38924.00</td>\n",
       "      <td>39728.00</td>\n",
       "      <td>40551.00</td>\n",
       "      <td>41389.00</td>\n",
       "      <td>42228.00</td>\n",
       "    </tr>\n",
       "    <tr>\n",
       "      <th>1</th>\n",
       "      <td>4</td>\n",
       "      <td>Algeria</td>\n",
       "      <td>2501</td>\n",
       "      <td>Population</td>\n",
       "      <td>5301</td>\n",
       "      <td>Domestic supply quantity</td>\n",
       "      <td>1000 tonnes</td>\n",
       "      <td>0.00</td>\n",
       "      <td>0.00</td>\n",
       "      <td>0.00</td>\n",
       "      <td>0.00</td>\n",
       "      <td>0.00</td>\n",
       "    </tr>\n",
       "    <tr>\n",
       "      <th>2</th>\n",
       "      <td>4</td>\n",
       "      <td>Algeria</td>\n",
       "      <td>2901</td>\n",
       "      <td>Grand Total</td>\n",
       "      <td>664</td>\n",
       "      <td>Food supply (kcal/capita/day)</td>\n",
       "      <td>kcal/capita/day</td>\n",
       "      <td>3377.00</td>\n",
       "      <td>3379.00</td>\n",
       "      <td>3372.00</td>\n",
       "      <td>3341.00</td>\n",
       "      <td>3322.00</td>\n",
       "    </tr>\n",
       "    <tr>\n",
       "      <th>3</th>\n",
       "      <td>4</td>\n",
       "      <td>Algeria</td>\n",
       "      <td>2901</td>\n",
       "      <td>Grand Total</td>\n",
       "      <td>674</td>\n",
       "      <td>Protein supply quantity (g/capita/day)</td>\n",
       "      <td>g/capita/day</td>\n",
       "      <td>94.90</td>\n",
       "      <td>94.35</td>\n",
       "      <td>94.72</td>\n",
       "      <td>92.82</td>\n",
       "      <td>91.83</td>\n",
       "    </tr>\n",
       "    <tr>\n",
       "      <th>4</th>\n",
       "      <td>4</td>\n",
       "      <td>Algeria</td>\n",
       "      <td>2901</td>\n",
       "      <td>Grand Total</td>\n",
       "      <td>684</td>\n",
       "      <td>Fat supply quantity (g/capita/day)</td>\n",
       "      <td>g/capita/day</td>\n",
       "      <td>80.06</td>\n",
       "      <td>79.36</td>\n",
       "      <td>77.40</td>\n",
       "      <td>80.19</td>\n",
       "      <td>77.28</td>\n",
       "    </tr>\n",
       "  </tbody>\n",
       "</table>\n",
       "</div>"
      ],
      "text/plain": [
       "   Area Code     Area  Item Code         Item  Element Code  \\\n",
       "0          4  Algeria       2501   Population           511   \n",
       "1          4  Algeria       2501   Population          5301   \n",
       "2          4  Algeria       2901  Grand Total           664   \n",
       "3          4  Algeria       2901  Grand Total           674   \n",
       "4          4  Algeria       2901  Grand Total           684   \n",
       "\n",
       "                                  Element             Unit     Y2014  \\\n",
       "0           Total Population - Both sexes     1000 persons  38924.00   \n",
       "1                Domestic supply quantity      1000 tonnes      0.00   \n",
       "2           Food supply (kcal/capita/day)  kcal/capita/day   3377.00   \n",
       "3  Protein supply quantity (g/capita/day)     g/capita/day     94.90   \n",
       "4      Fat supply quantity (g/capita/day)     g/capita/day     80.06   \n",
       "\n",
       "      Y2015     Y2016     Y2017     Y2018  \n",
       "0  39728.00  40551.00  41389.00  42228.00  \n",
       "1      0.00      0.00      0.00      0.00  \n",
       "2   3379.00   3372.00   3341.00   3322.00  \n",
       "3     94.35     94.72     92.82     91.83  \n",
       "4     79.36     77.40     80.19     77.28  "
      ]
     },
     "execution_count": 7,
     "metadata": {},
     "output_type": "execute_result"
    }
   ],
   "source": [
    "df.head()"
   ]
  },
  {
   "cell_type": "code",
   "execution_count": 11,
   "id": "66dcdf9f",
   "metadata": {},
   "outputs": [
    {
     "data": {
      "text/plain": [
       "array(['Population', 'Grand Total', 'Vegetal Products', 'Animal Products',\n",
       "       'Cereals - Excluding Beer', 'Wheat and products',\n",
       "       'Rice and products', 'Barley and products', 'Maize and products',\n",
       "       'Rye and products', 'Oats', 'Millet and products',\n",
       "       'Sorghum and products', 'Cereals, Other', 'Starchy Roots',\n",
       "       'Cassava and products', 'Potatoes and products', 'Sweet potatoes',\n",
       "       'Yams', 'Roots, Other', 'Sugar Crops', 'Sugar cane', 'Sugar beet',\n",
       "       'Sugar & Sweeteners', 'Sugar (Raw Equivalent)',\n",
       "       'Sweeteners, Other', 'Honey', 'Pulses', 'Beans', 'Peas',\n",
       "       'Pulses, Other and products', 'Treenuts', 'Nuts and products',\n",
       "       'Oilcrops', 'Soyabeans', 'Groundnuts (Shelled Eq)',\n",
       "       'Sunflower seed', 'Rape and Mustardseed', 'Cottonseed',\n",
       "       'Coconuts - Incl Copra', 'Sesame seed',\n",
       "       'Olives (including preserved)', 'Oilcrops, Other',\n",
       "       'Vegetable Oils', 'Soyabean Oil', 'Groundnut Oil',\n",
       "       'Sunflowerseed Oil', 'Rape and Mustard Oil', 'Cottonseed Oil',\n",
       "       'Palmkernel Oil', 'Palm Oil', 'Coconut Oil', 'Sesameseed Oil',\n",
       "       'Olive Oil', 'Maize Germ Oil', 'Oilcrops Oil, Other', 'Vegetables',\n",
       "       'Tomatoes and products', 'Onions', 'Vegetables, Other',\n",
       "       'Fruits - Excluding Wine', 'Oranges, Mandarines',\n",
       "       'Lemons, Limes and products', 'Grapefruit and products',\n",
       "       'Citrus, Other', 'Bananas', 'Plantains', 'Apples and products',\n",
       "       'Pineapples and products', 'Dates',\n",
       "       'Grapes and products (excl wine)', 'Fruits, Other', 'Stimulants',\n",
       "       'Coffee and products', 'Cocoa Beans and products',\n",
       "       'Tea (including mate)', 'Spices', 'Pepper', 'Pimento', 'Cloves',\n",
       "       'Spices, Other', 'Alcoholic Beverages', 'Wine', 'Beer',\n",
       "       'Beverages, Fermented', 'Beverages, Alcoholic',\n",
       "       'Alcohol, Non-Food', 'Meat', 'Bovine Meat', 'Mutton & Goat Meat',\n",
       "       'Pigmeat', 'Poultry Meat', 'Meat, Other', 'Offals',\n",
       "       'Offals, Edible', 'Animal fats', 'Butter, Ghee', 'Cream',\n",
       "       'Fats, Animals, Raw', 'Fish, Body Oil', 'Fish, Liver Oil', 'Eggs',\n",
       "       'Milk - Excluding Butter', 'Fish, Seafood', 'Freshwater Fish',\n",
       "       'Demersal Fish', 'Pelagic Fish', 'Marine Fish, Other',\n",
       "       'Crustaceans', 'Cephalopods', 'Molluscs, Other',\n",
       "       'Aquatic Products, Other', 'Aquatic Animals, Others',\n",
       "       'Aquatic Plants', 'Miscellaneous', 'Infant food',\n",
       "       'Sugar non-centrifugal', 'Palm kernels', 'Ricebran Oil'],\n",
       "      dtype=object)"
      ]
     },
     "execution_count": 11,
     "metadata": {},
     "output_type": "execute_result"
    }
   ],
   "source": [
    "df['Item'].unique()"
   ]
  },
  {
   "cell_type": "code",
   "execution_count": 18,
   "id": "21c15a4b",
   "metadata": {},
   "outputs": [],
   "source": [
    "animal_fats_df = df[df['Item'] == 'Animal fats']"
   ]
  },
  {
   "cell_type": "code",
   "execution_count": 20,
   "id": "b6cab01d",
   "metadata": {},
   "outputs": [
    {
     "data": {
      "text/plain": [
       "(269617.53, 209460.54)"
      ]
     },
     "execution_count": 20,
     "metadata": {},
     "output_type": "execute_result"
    }
   ],
   "source": [
    "animal_fats_df['Y2017'].sum(), animal_fats_df['Y2014'].sum()"
   ]
  },
  {
   "cell_type": "code",
   "execution_count": 22,
   "id": "89a0ec7d",
   "metadata": {},
   "outputs": [
    {
     "data": {
      "text/plain": [
       "(135.236, 1603.404)"
      ]
     },
     "execution_count": 22,
     "metadata": {},
     "output_type": "execute_result"
    }
   ],
   "source": [
    "round(df['Y2015'].mean(), 3), round(df['Y2015'].std(),3)"
   ]
  },
  {
   "cell_type": "code",
   "execution_count": 26,
   "id": "8760d9cb",
   "metadata": {},
   "outputs": [
    {
     "data": {
      "text/plain": [
       "(1535, 0.03)"
      ]
     },
     "execution_count": 26,
     "metadata": {},
     "output_type": "execute_result"
    }
   ],
   "source": [
    "df['Y2016'].isna().sum(), round(df['Y2016'].isna().sum()/len(df['Y2016']), 2)"
   ]
  },
  {
   "cell_type": "code",
   "execution_count": 27,
   "id": "0b3d11ad",
   "metadata": {},
   "outputs": [
    {
     "data": {
      "text/html": [
       "<div>\n",
       "<style scoped>\n",
       "    .dataframe tbody tr th:only-of-type {\n",
       "        vertical-align: middle;\n",
       "    }\n",
       "\n",
       "    .dataframe tbody tr th {\n",
       "        vertical-align: top;\n",
       "    }\n",
       "\n",
       "    .dataframe thead th {\n",
       "        text-align: right;\n",
       "    }\n",
       "</style>\n",
       "<table border=\"1\" class=\"dataframe\">\n",
       "  <thead>\n",
       "    <tr style=\"text-align: right;\">\n",
       "      <th></th>\n",
       "      <th>Area Code</th>\n",
       "      <th>Item Code</th>\n",
       "      <th>Element Code</th>\n",
       "      <th>Y2014</th>\n",
       "      <th>Y2015</th>\n",
       "      <th>Y2016</th>\n",
       "      <th>Y2017</th>\n",
       "      <th>Y2018</th>\n",
       "    </tr>\n",
       "  </thead>\n",
       "  <tbody>\n",
       "    <tr>\n",
       "      <th>Area Code</th>\n",
       "      <td>1.000000</td>\n",
       "      <td>-0.005159</td>\n",
       "      <td>-0.000209</td>\n",
       "      <td>0.006164</td>\n",
       "      <td>0.005472</td>\n",
       "      <td>0.005247</td>\n",
       "      <td>0.005006</td>\n",
       "      <td>0.005665</td>\n",
       "    </tr>\n",
       "    <tr>\n",
       "      <th>Item Code</th>\n",
       "      <td>-0.005159</td>\n",
       "      <td>1.000000</td>\n",
       "      <td>-0.024683</td>\n",
       "      <td>0.021722</td>\n",
       "      <td>0.020857</td>\n",
       "      <td>0.020109</td>\n",
       "      <td>0.021494</td>\n",
       "      <td>0.021314</td>\n",
       "    </tr>\n",
       "    <tr>\n",
       "      <th>Element Code</th>\n",
       "      <td>-0.000209</td>\n",
       "      <td>-0.024683</td>\n",
       "      <td>1.000000</td>\n",
       "      <td>0.024457</td>\n",
       "      <td>0.023889</td>\n",
       "      <td>0.023444</td>\n",
       "      <td>0.024254</td>\n",
       "      <td>0.024279</td>\n",
       "    </tr>\n",
       "    <tr>\n",
       "      <th>Y2014</th>\n",
       "      <td>0.006164</td>\n",
       "      <td>0.021722</td>\n",
       "      <td>0.024457</td>\n",
       "      <td>1.000000</td>\n",
       "      <td>0.994647</td>\n",
       "      <td>0.996081</td>\n",
       "      <td>0.995230</td>\n",
       "      <td>0.994872</td>\n",
       "    </tr>\n",
       "    <tr>\n",
       "      <th>Y2015</th>\n",
       "      <td>0.005472</td>\n",
       "      <td>0.020857</td>\n",
       "      <td>0.023889</td>\n",
       "      <td>0.994647</td>\n",
       "      <td>1.000000</td>\n",
       "      <td>0.995739</td>\n",
       "      <td>0.988048</td>\n",
       "      <td>0.988208</td>\n",
       "    </tr>\n",
       "    <tr>\n",
       "      <th>Y2016</th>\n",
       "      <td>0.005247</td>\n",
       "      <td>0.020109</td>\n",
       "      <td>0.023444</td>\n",
       "      <td>0.996081</td>\n",
       "      <td>0.995739</td>\n",
       "      <td>1.000000</td>\n",
       "      <td>0.992785</td>\n",
       "      <td>0.992757</td>\n",
       "    </tr>\n",
       "    <tr>\n",
       "      <th>Y2017</th>\n",
       "      <td>0.005006</td>\n",
       "      <td>0.021494</td>\n",
       "      <td>0.024254</td>\n",
       "      <td>0.995230</td>\n",
       "      <td>0.988048</td>\n",
       "      <td>0.992785</td>\n",
       "      <td>1.000000</td>\n",
       "      <td>0.998103</td>\n",
       "    </tr>\n",
       "    <tr>\n",
       "      <th>Y2018</th>\n",
       "      <td>0.005665</td>\n",
       "      <td>0.021314</td>\n",
       "      <td>0.024279</td>\n",
       "      <td>0.994872</td>\n",
       "      <td>0.988208</td>\n",
       "      <td>0.992757</td>\n",
       "      <td>0.998103</td>\n",
       "      <td>1.000000</td>\n",
       "    </tr>\n",
       "  </tbody>\n",
       "</table>\n",
       "</div>"
      ],
      "text/plain": [
       "              Area Code  Item Code  Element Code     Y2014     Y2015  \\\n",
       "Area Code      1.000000  -0.005159     -0.000209  0.006164  0.005472   \n",
       "Item Code     -0.005159   1.000000     -0.024683  0.021722  0.020857   \n",
       "Element Code  -0.000209  -0.024683      1.000000  0.024457  0.023889   \n",
       "Y2014          0.006164   0.021722      0.024457  1.000000  0.994647   \n",
       "Y2015          0.005472   0.020857      0.023889  0.994647  1.000000   \n",
       "Y2016          0.005247   0.020109      0.023444  0.996081  0.995739   \n",
       "Y2017          0.005006   0.021494      0.024254  0.995230  0.988048   \n",
       "Y2018          0.005665   0.021314      0.024279  0.994872  0.988208   \n",
       "\n",
       "                 Y2016     Y2017     Y2018  \n",
       "Area Code     0.005247  0.005006  0.005665  \n",
       "Item Code     0.020109  0.021494  0.021314  \n",
       "Element Code  0.023444  0.024254  0.024279  \n",
       "Y2014         0.996081  0.995230  0.994872  \n",
       "Y2015         0.995739  0.988048  0.988208  \n",
       "Y2016         1.000000  0.992785  0.992757  \n",
       "Y2017         0.992785  1.000000  0.998103  \n",
       "Y2018         0.992757  0.998103  1.000000  "
      ]
     },
     "execution_count": 27,
     "metadata": {},
     "output_type": "execute_result"
    }
   ],
   "source": [
    "df.corr()"
   ]
  },
  {
   "cell_type": "code",
   "execution_count": 44,
   "id": "34924a53",
   "metadata": {},
   "outputs": [
    {
     "data": {
      "text/plain": [
       "Y2014    274144.48\n",
       "Y2015    267018.46\n",
       "Y2016    286582.78\n",
       "Y2017    294559.09\n",
       "Y2018    287997.09\n",
       "dtype: float64"
      ]
     },
     "execution_count": 44,
     "metadata": {},
     "output_type": "execute_result"
    }
   ],
   "source": [
    "import_df = df[df['Element'] == 'Import Quantity']\n",
    "year_df = import_df[['Y2014', 'Y2015', 'Y2016', 'Y2017', 'Y2018']]\n",
    "year_df.sum()"
   ]
  },
  {
   "cell_type": "code",
   "execution_count": 45,
   "id": "7b32cbbe",
   "metadata": {},
   "outputs": [
    {
     "data": {
      "text/plain": [
       "1931287.75"
      ]
     },
     "execution_count": 45,
     "metadata": {},
     "output_type": "execute_result"
    }
   ],
   "source": [
    "sop_df = df[df['Element'] == 'Production']\n",
    "sop_df['Y2014'].sum()"
   ]
  },
  {
   "cell_type": "code",
   "execution_count": 60,
   "id": "b33ee960",
   "metadata": {},
   "outputs": [
    {
     "data": {
      "text/html": [
       "<div>\n",
       "<style scoped>\n",
       "    .dataframe tbody tr th:only-of-type {\n",
       "        vertical-align: middle;\n",
       "    }\n",
       "\n",
       "    .dataframe tbody tr th {\n",
       "        vertical-align: top;\n",
       "    }\n",
       "\n",
       "    .dataframe thead th {\n",
       "        text-align: right;\n",
       "    }\n",
       "</style>\n",
       "<table border=\"1\" class=\"dataframe\">\n",
       "  <thead>\n",
       "    <tr style=\"text-align: right;\">\n",
       "      <th></th>\n",
       "      <th>Y2018</th>\n",
       "    </tr>\n",
       "    <tr>\n",
       "      <th>Element</th>\n",
       "      <th></th>\n",
       "    </tr>\n",
       "  </thead>\n",
       "  <tbody>\n",
       "    <tr>\n",
       "      <th>Tourist consumption</th>\n",
       "      <td>90.00</td>\n",
       "    </tr>\n",
       "    <tr>\n",
       "      <th>Fat supply quantity (g/capita/day)</th>\n",
       "      <td>10258.69</td>\n",
       "    </tr>\n",
       "    <tr>\n",
       "      <th>Protein supply quantity (g/capita/day)</th>\n",
       "      <td>11833.56</td>\n",
       "    </tr>\n",
       "    <tr>\n",
       "      <th>Stock Variation</th>\n",
       "      <td>20577.91</td>\n",
       "    </tr>\n",
       "    <tr>\n",
       "      <th>Seed</th>\n",
       "      <td>25263.14</td>\n",
       "    </tr>\n",
       "    <tr>\n",
       "      <th>Residuals</th>\n",
       "      <td>34864.00</td>\n",
       "    </tr>\n",
       "    <tr>\n",
       "      <th>Food supply quantity (kg/capita/yr)</th>\n",
       "      <td>49056.85</td>\n",
       "    </tr>\n",
       "    <tr>\n",
       "      <th>Other uses (non-food)</th>\n",
       "      <td>91300.97</td>\n",
       "    </tr>\n",
       "    <tr>\n",
       "      <th>Losses</th>\n",
       "      <td>163902.00</td>\n",
       "    </tr>\n",
       "    <tr>\n",
       "      <th>Export Quantity</th>\n",
       "      <td>181594.80</td>\n",
       "    </tr>\n",
       "    <tr>\n",
       "      <th>Feed</th>\n",
       "      <td>233489.68</td>\n",
       "    </tr>\n",
       "    <tr>\n",
       "      <th>Import Quantity</th>\n",
       "      <td>287997.09</td>\n",
       "    </tr>\n",
       "    <tr>\n",
       "      <th>Processing</th>\n",
       "      <td>308429.00</td>\n",
       "    </tr>\n",
       "    <tr>\n",
       "      <th>Food supply (kcal/capita/day)</th>\n",
       "      <td>455261.00</td>\n",
       "    </tr>\n",
       "    <tr>\n",
       "      <th>Total Population - Both sexes</th>\n",
       "      <td>1140605.00</td>\n",
       "    </tr>\n",
       "    <tr>\n",
       "      <th>Food</th>\n",
       "      <td>1303841.28</td>\n",
       "    </tr>\n",
       "    <tr>\n",
       "      <th>Production</th>\n",
       "      <td>2075072.89</td>\n",
       "    </tr>\n",
       "    <tr>\n",
       "      <th>Domestic supply quantity</th>\n",
       "      <td>2161192.10</td>\n",
       "    </tr>\n",
       "  </tbody>\n",
       "</table>\n",
       "</div>"
      ],
      "text/plain": [
       "                                             Y2018\n",
       "Element                                           \n",
       "Tourist consumption                          90.00\n",
       "Fat supply quantity (g/capita/day)        10258.69\n",
       "Protein supply quantity (g/capita/day)    11833.56\n",
       "Stock Variation                           20577.91\n",
       "Seed                                      25263.14\n",
       "Residuals                                 34864.00\n",
       "Food supply quantity (kg/capita/yr)       49056.85\n",
       "Other uses (non-food)                     91300.97\n",
       "Losses                                   163902.00\n",
       "Export Quantity                          181594.80\n",
       "Feed                                     233489.68\n",
       "Import Quantity                          287997.09\n",
       "Processing                               308429.00\n",
       "Food supply (kcal/capita/day)            455261.00\n",
       "Total Population - Both sexes           1140605.00\n",
       "Food                                    1303841.28\n",
       "Production                              2075072.89\n",
       "Domestic supply quantity                2161192.10"
      ]
     },
     "execution_count": 60,
     "metadata": {},
     "output_type": "execute_result"
    }
   ],
   "source": [
    "df[['Y2018', 'Element']].groupby(['Element']).sum().sort_values(ascending=True, by='Y2018')"
   ]
  },
  {
   "cell_type": "code",
   "execution_count": 57,
   "id": "c0c8beec",
   "metadata": {},
   "outputs": [
    {
     "data": {
      "text/plain": [
       "36238.29"
      ]
     },
     "execution_count": 57,
     "metadata": {},
     "output_type": "execute_result"
    }
   ],
   "source": [
    "import_df[import_df['Area'] == 'Algeria']['Y2018'].sum()"
   ]
  },
  {
   "cell_type": "code",
   "execution_count": 32,
   "id": "6307ff73",
   "metadata": {},
   "outputs": [],
   "source": [
    "algeria_df = df[df['Area'] == 'Algeria']"
   ]
  },
  {
   "cell_type": "code",
   "execution_count": 33,
   "id": "8a2b36fb",
   "metadata": {},
   "outputs": [
    {
     "data": {
      "text/plain": [
       "341729.98000000004"
      ]
     },
     "execution_count": 33,
     "metadata": {},
     "output_type": "execute_result"
    }
   ],
   "source": [
    "algeria_df['Y2018'].sum()"
   ]
  },
  {
   "cell_type": "code",
   "execution_count": 35,
   "id": "a1fc25e5",
   "metadata": {},
   "outputs": [
    {
     "data": {
      "text/plain": [
       "49"
      ]
     },
     "execution_count": 35,
     "metadata": {},
     "output_type": "execute_result"
    }
   ],
   "source": [
    "df['Area'].nunique()"
   ]
  },
  {
   "cell_type": "code",
   "execution_count": 42,
   "id": "ad7a3ae4",
   "metadata": {},
   "outputs": [
    {
     "data": {
      "text/plain": [
       "array(['Total Population - Both sexes', 'Domestic supply quantity',\n",
       "       'Food supply (kcal/capita/day)',\n",
       "       'Protein supply quantity (g/capita/day)',\n",
       "       'Fat supply quantity (g/capita/day)', 'Production',\n",
       "       'Import Quantity', 'Stock Variation', 'Export Quantity', 'Feed',\n",
       "       'Seed', 'Losses', 'Processing', 'Other uses (non-food)',\n",
       "       'Residuals', 'Food', 'Food supply quantity (kg/capita/yr)',\n",
       "       'Tourist consumption'], dtype=object)"
      ]
     },
     "execution_count": 42,
     "metadata": {},
     "output_type": "execute_result"
    }
   ],
   "source": [
    "df['Element'].unique()"
   ]
  },
  {
   "cell_type": "code",
   "execution_count": null,
   "id": "94ee1c5b",
   "metadata": {},
   "outputs": [],
   "source": []
  }
 ],
 "metadata": {
  "kernelspec": {
   "display_name": "Python 3 (ipykernel)",
   "language": "python",
   "name": "python3"
  },
  "language_info": {
   "codemirror_mode": {
    "name": "ipython",
    "version": 3
   },
   "file_extension": ".py",
   "mimetype": "text/x-python",
   "name": "python",
   "nbconvert_exporter": "python",
   "pygments_lexer": "ipython3",
   "version": "3.8.10"
  }
 },
 "nbformat": 4,
 "nbformat_minor": 5
}
